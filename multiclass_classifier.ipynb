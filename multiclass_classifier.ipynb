{
  "nbformat": 4,
  "nbformat_minor": 0,
  "metadata": {
    "colab": {
      "name": "multiclass_classifier.ipynb",
      "provenance": [],
      "collapsed_sections": [],
      "mount_file_id": "1EGnKmJxeUqJt6Bj0DNmHhbwlkE4Mwjk9",
      "authorship_tag": "ABX9TyNSufK4wwxs7Qxru/awMNtP",
      "include_colab_link": true
    },
    "kernelspec": {
      "name": "python3",
      "display_name": "Python 3"
    }
  },
  "cells": [
    {
      "cell_type": "markdown",
      "metadata": {
        "id": "view-in-github",
        "colab_type": "text"
      },
      "source": [
        "<a href=\"https://colab.research.google.com/github/FaizanHassanSiddiqui/ibot/blob/main/multiclass_classifier.ipynb\" target=\"_parent\"><img src=\"https://colab.research.google.com/assets/colab-badge.svg\" alt=\"Open In Colab\"/></a>"
      ]
    },
    {
      "cell_type": "code",
      "metadata": {
        "id": "JybhdLzEuY8F"
      },
      "source": [
        "import json\r\n",
        "import numpy as np"
      ],
      "execution_count": 42,
      "outputs": []
    },
    {
      "cell_type": "code",
      "metadata": {
        "id": "V19wxXrlvgXg"
      },
      "source": [
        "data_path = '/content/drive/MyDrive/Project Common folder/Faizan_folder/new_data.json'"
      ],
      "execution_count": 43,
      "outputs": []
    },
    {
      "cell_type": "code",
      "metadata": {
        "id": "9B2TUALDvs82"
      },
      "source": [
        "with open(data_path) as f:\r\n",
        "  content_list = json.load(f)"
      ],
      "execution_count": 44,
      "outputs": []
    },
    {
      "cell_type": "code",
      "metadata": {
        "colab": {
          "base_uri": "https://localhost:8080/"
        },
        "id": "dL00QQ9lv1t0",
        "outputId": "cef00121-3aad-454a-88d2-a358e5155b25"
      },
      "source": [
        "type(content_list)"
      ],
      "execution_count": 45,
      "outputs": [
        {
          "output_type": "execute_result",
          "data": {
            "text/plain": [
              "list"
            ]
          },
          "metadata": {
            "tags": []
          },
          "execution_count": 45
        }
      ]
    },
    {
      "cell_type": "code",
      "metadata": {
        "colab": {
          "base_uri": "https://localhost:8080/"
        },
        "id": "V9SyXlgPv_Ig",
        "outputId": "46d4beea-b6a5-4cbc-d9dd-e7e3579ed0fe"
      },
      "source": [
        "len(content_list)"
      ],
      "execution_count": 46,
      "outputs": [
        {
          "output_type": "execute_result",
          "data": {
            "text/plain": [
              "977"
            ]
          },
          "metadata": {
            "tags": []
          },
          "execution_count": 46
        }
      ]
    },
    {
      "cell_type": "code",
      "metadata": {
        "colab": {
          "base_uri": "https://localhost:8080/"
        },
        "id": "BPm1bY9uwCFX",
        "outputId": "e8ba9f9f-1271-4ecc-bb8f-59956ab01b8a"
      },
      "source": [
        "content_list[0].keys()"
      ],
      "execution_count": 47,
      "outputs": [
        {
          "output_type": "execute_result",
          "data": {
            "text/plain": [
              "dict_keys(['category', 'title', 'question', 'answer'])"
            ]
          },
          "metadata": {
            "tags": []
          },
          "execution_count": 47
        }
      ]
    },
    {
      "cell_type": "code",
      "metadata": {
        "id": "WwqaRl8Z3tdV"
      },
      "source": [
        "categories = [intent for intent in {content['category'] : 0 for content in content_list}.keys()]\r\n"
      ],
      "execution_count": 48,
      "outputs": []
    },
    {
      "cell_type": "code",
      "metadata": {
        "colab": {
          "base_uri": "https://localhost:8080/"
        },
        "id": "I4HYbyA--j3Z",
        "outputId": "3af9aede-e589-4305-eb19-82068ee798e4"
      },
      "source": [
        "categories"
      ],
      "execution_count": 49,
      "outputs": [
        {
          "output_type": "execute_result",
          "data": {
            "text/plain": [
              "['AGENCY',\n",
              " 'AGRIBUSINESS',\n",
              " 'BEQUEST',\n",
              " 'CONTRACTS',\n",
              " 'GIFT',\n",
              " 'GUARANTEE',\n",
              " 'IJARAH',\n",
              " 'GENERAL',\n",
              " 'BONDS',\n",
              " 'BILLS OF EXCHANGE',\n",
              " 'BRIBERY',\n",
              " 'CHARITY',\n",
              " 'COLLATERAL',\n",
              " 'DEBT',\n",
              " 'DOCUMENTARY CREDIT',\n",
              " 'EMPLOYMENT',\n",
              " 'ENDOWNMENT',\n",
              " 'GAMBLING',\n",
              " 'INHERITANCE',\n",
              " 'INSURANCE',\n",
              " 'INTEREST',\n",
              " 'ISTISNA',\n",
              " 'LOAN',\n",
              " 'MAINTENANCE',\n",
              " 'MUDARABAH',\n",
              " 'CURRENCY AND PRECIOUS METALS',\n",
              " 'MURABAHA',\n",
              " 'MUTUAL FUNDS',\n",
              " 'PLEDGE',\n",
              " 'RISK MITIGATION',\n",
              " 'SALAM',\n",
              " 'SALE',\n",
              " 'SECURITY',\n",
              " 'STOCKS AND SHARES',\n",
              " 'SUKUK',\n",
              " 'TAXES',\n",
              " 'USHR',\n",
              " 'ZAKAT',\n",
              " 'MUSAWAMAH',\n",
              " 'MUSHARAKAH']"
            ]
          },
          "metadata": {
            "tags": []
          },
          "execution_count": 49
        }
      ]
    },
    {
      "cell_type": "code",
      "metadata": {
        "colab": {
          "base_uri": "https://localhost:8080/"
        },
        "id": "Lj2cGM3Yar4i",
        "outputId": "3db4d691-5f5a-4437-fb0d-b1f78091bf0d"
      },
      "source": [
        "len(categories)"
      ],
      "execution_count": 50,
      "outputs": [
        {
          "output_type": "execute_result",
          "data": {
            "text/plain": [
              "40"
            ]
          },
          "metadata": {
            "tags": []
          },
          "execution_count": 50
        }
      ]
    },
    {
      "cell_type": "code",
      "metadata": {
        "id": "SXgOD45kwMMD"
      },
      "source": [
        "\r\n",
        "\r\n",
        "def_list = list(filter(lambda item: item['intent'] == 'definition', content_list))\r\n",
        "len(def_list)"
      ],
      "execution_count": null,
      "outputs": []
    },
    {
      "cell_type": "code",
      "metadata": {
        "colab": {
          "base_uri": "https://localhost:8080/"
        },
        "id": "V4r4MT-uyQBF",
        "outputId": "803911a7-c751-4dde-d0a4-6f6bea87abf2"
      },
      "source": [
        "import time\r\n",
        "start_time = time.time()\r\n",
        "legal_list = list(filter(lambda item: item['intent'] == 'legal', content_list))\r\n",
        "\r\n",
        "print(time.time()- start_time)"
      ],
      "execution_count": null,
      "outputs": [
        {
          "output_type": "stream",
          "text": [
            "0.0036253929138183594\n"
          ],
          "name": "stdout"
        }
      ]
    },
    {
      "cell_type": "code",
      "metadata": {
        "id": "OaaGgedL_fPS"
      },
      "source": [
        "stat_list = list(filter(lambda item: item['intent'] == 'statistic', content_list))\r\n"
      ],
      "execution_count": null,
      "outputs": []
    },
    {
      "cell_type": "code",
      "metadata": {
        "id": "fkNwrESp_pV6"
      },
      "source": [
        "open_list = list(filter(lambda item: item['intent'] == 'open', content_list))\r\n"
      ],
      "execution_count": null,
      "outputs": []
    },
    {
      "cell_type": "code",
      "metadata": {
        "colab": {
          "base_uri": "https://localhost:8080/"
        },
        "id": "GAfXz6Wd_ysq",
        "outputId": "30e4763b-8e3a-4c2a-eb75-9246037c0401"
      },
      "source": [
        "len(stat_list)"
      ],
      "execution_count": null,
      "outputs": [
        {
          "output_type": "execute_result",
          "data": {
            "text/plain": [
              "4"
            ]
          },
          "metadata": {
            "tags": []
          },
          "execution_count": 29
        }
      ]
    },
    {
      "cell_type": "code",
      "metadata": {
        "id": "cIbTV9AF_1Bx"
      },
      "source": [
        "mapping = {'AGENCY': 0,\r\n",
        " 'AGRIBUSINESS': 1,\r\n",
        " 'BEQUEST': 2,\r\n",
        " 'CONTRACTS': 3,\r\n",
        " 'GIFT': 4,\r\n",
        " 'GUARANTEE': 5,\r\n",
        " 'IJARAH': 6,\r\n",
        " 'GENERAL': 7,\r\n",
        " 'BONDS': 8,\r\n",
        " 'BILLS OF EXCHANGE': 9,\r\n",
        " 'BRIBERY': 10,\r\n",
        " 'CHARITY': 11,\r\n",
        " 'COLLATERAL': 12,\r\n",
        " 'DEBT': 13,\r\n",
        " 'DOCUMENTARY CREDIT': 14,\r\n",
        " 'EMPLOYMENT': 15,\r\n",
        " 'ENDOWNMENT': 16,\r\n",
        " 'GAMBLING': 17,\r\n",
        " 'INHERITANCE': 18,\r\n",
        " 'INSURANCE': 19,\r\n",
        " 'INTEREST': 20,\r\n",
        " 'ISTISNA': 21,\r\n",
        " 'LOAN': 22,\r\n",
        " 'MAINTENANCE': 23,\r\n",
        " 'MUDARABAH': 24,\r\n",
        " 'CURRENCY AND PRECIOUS METALS': 25,\r\n",
        " 'MURABAHA': 26,\r\n",
        " 'MUTUAL FUNDS': 27,\r\n",
        " 'PLEDGE': 28,\r\n",
        " 'RISK MITIGATION': 29,\r\n",
        " 'SALAM': 30,\r\n",
        " 'SALE': 31,\r\n",
        " 'SECURITY': 32,\r\n",
        " 'STOCKS AND SHARES': 33,\r\n",
        " 'SUKUK': 34,\r\n",
        " 'TAXES': 35,\r\n",
        " 'USHR': 36,\r\n",
        " 'ZAKAT': 37,\r\n",
        " 'MUSAWAMAH': 38,\r\n",
        " 'MUSHARAKAH': 39}"
      ],
      "execution_count": 114,
      "outputs": []
    },
    {
      "cell_type": "code",
      "metadata": {
        "colab": {
          "base_uri": "https://localhost:8080/"
        },
        "id": "qBP2jNygN0Ds",
        "outputId": "9f0a66fc-b88f-402c-d8ae-5442edcb323d"
      },
      "source": [
        "picking_thresh = 100\r\n",
        "\r\n",
        "from collections import Counter\r\n",
        "import pandas as pd\r\n",
        "\r\n",
        "reverse_mapping = {value : key for key, value  in mapping.items()}\r\n",
        "\r\n",
        "counter_object = Counter(map(lambda x: reverse_mapping[x], labels))\r\n",
        "\r\n",
        "count_series = pd.Series(counter_object,index=counter_object.keys())\r\n",
        "\r\n",
        "categ = count_series[count_series > picking_thresh].keys()\r\n",
        "type(categ)\r\n",
        "\r\n",
        "\r\n"
      ],
      "execution_count": 129,
      "outputs": [
        {
          "output_type": "execute_result",
          "data": {
            "text/plain": [
              "pandas.core.indexes.base.Index"
            ]
          },
          "metadata": {
            "tags": []
          },
          "execution_count": 129
        }
      ]
    },
    {
      "cell_type": "code",
      "metadata": {
        "colab": {
          "base_uri": "https://localhost:8080/"
        },
        "id": "nWgphoUpiKE-",
        "outputId": "c44e2e30-4cb2-47b4-e12c-00f583752f01"
      },
      "source": [
        "labels_to_choose = list(map(lambda x : mapping[x] , categ))\r\n",
        "labels_to_choose"
      ],
      "execution_count": 116,
      "outputs": [
        {
          "output_type": "execute_result",
          "data": {
            "text/plain": [
              "[7, 26, 37]"
            ]
          },
          "metadata": {
            "tags": []
          },
          "execution_count": 116
        }
      ]
    },
    {
      "cell_type": "code",
      "metadata": {
        "id": "fZ2PRK1m_3mo"
      },
      "source": [
        "utterances = []\r\n",
        "labels = []\r\n",
        "\r\n",
        "\r\n",
        "\r\n",
        "for content in content_list:\r\n",
        "  if mapping[content['category']] in labels_to_choose:\r\n",
        "    utterances.append(content['question'])\r\n",
        "    labels.append(mapping[content['category']])"
      ],
      "execution_count": 117,
      "outputs": []
    },
    {
      "cell_type": "code",
      "metadata": {
        "colab": {
          "base_uri": "https://localhost:8080/"
        },
        "id": "LZRGPP8jCrF7",
        "outputId": "e24b7ab6-5404-40c8-dc16-05dfe783825d"
      },
      "source": [
        "print(\"length of questions is \", len(utterances))\r\n",
        "print(\"length of labels is \", len(labels))"
      ],
      "execution_count": 118,
      "outputs": [
        {
          "output_type": "stream",
          "text": [
            "length of questions is  346\n",
            "length of labels is  346\n"
          ],
          "name": "stdout"
        }
      ]
    },
    {
      "cell_type": "code",
      "metadata": {
        "colab": {
          "base_uri": "https://localhost:8080/"
        },
        "id": "a0lQEuD1GgZZ",
        "outputId": "740d9ee3-8cbf-49dd-8497-148b34d46fef"
      },
      "source": [
        "\r\n",
        "\r\n",
        "index_to_check = 8\r\n",
        "print(\"question : \" , utterances[index_to_check])\r\n",
        "print(\"label : \" , labels[index_to_check] )"
      ],
      "execution_count": 119,
      "outputs": [
        {
          "output_type": "stream",
          "text": [
            "question :  Is a transaction involving dissimilar items sold by measurement deemed valid?\n",
            "label :  7\n"
          ],
          "name": "stdout"
        }
      ]
    },
    {
      "cell_type": "code",
      "metadata": {
        "id": "s3qFqT_Gi_cp"
      },
      "source": [
        ""
      ],
      "execution_count": null,
      "outputs": []
    },
    {
      "cell_type": "code",
      "metadata": {
        "id": "h4pCnMlgSSn4"
      },
      "source": [
        "\r\n",
        "\r\n",
        "from keras.preprocessing.text import Tokenizer\r\n",
        "from keras.preprocessing.sequence import pad_sequences\r\n",
        "\r\n",
        "def vectorize_text(texts, max_words, maxlen):\r\n",
        "  tokenizer = Tokenizer(num_words=max_words)\r\n",
        "  tokenizer.fit_on_texts(texts)\r\n",
        "  sequences = tokenizer.texts_to_sequences(texts)\r\n",
        "  word_index = tokenizer.word_index\r\n",
        "  print('Found %s unique tokens.' % len(word_index))\r\n",
        "  data = pad_sequences(sequences, maxlen=maxlen)\r\n",
        "\r\n",
        "  return data"
      ],
      "execution_count": 124,
      "outputs": []
    },
    {
      "cell_type": "code",
      "metadata": {
        "id": "aEKEvgC6t8VY"
      },
      "source": [
        "max_words = 10000\r\n",
        "maxlen = 15"
      ],
      "execution_count": 125,
      "outputs": []
    },
    {
      "cell_type": "code",
      "metadata": {
        "colab": {
          "base_uri": "https://localhost:8080/"
        },
        "id": "7lr3bi_RUJD6",
        "outputId": "5c407e73-9f9a-40cd-b08f-df2a489df164"
      },
      "source": [
        "text_vectorized = vectorize_text(utterances, max_words, maxlen)\r\n",
        "\r\n",
        "print(text_vectorized.shape)\r\n",
        "\r\n",
        "text_vectorized[:10]"
      ],
      "execution_count": 126,
      "outputs": [
        {
          "output_type": "stream",
          "text": [
            "Found 1069 unique tokens.\n",
            "(346, 15)\n"
          ],
          "name": "stdout"
        },
        {
          "output_type": "execute_result",
          "data": {
            "text/plain": [
              "array([[  0,   0,   0,   0,   0,   0,   0,  94,  30, 352, 353,  16, 256,\n",
              "        551, 552],\n",
              "       [  0,   0,   0,   0,   0,   0,   0,   0,   0,  14, 354,  54,  36,\n",
              "         19, 121],\n",
              "       [  0,   0,   0,   0,   3,   4,  39, 257, 201,  54,  36,  19, 121,\n",
              "        202,  50],\n",
              "       [ 17, 108, 166, 201,  54,  36,  19, 121, 122,  32, 203, 553, 554,\n",
              "          7, 555],\n",
              "       [  0,   0,   0,   0,   3,   4,  39, 257, 204,  54,  36,  19, 121,\n",
              "        202,  50],\n",
              "       [166,  54,  36,  19, 121,  20,  30, 355, 258, 109,  30, 356, 357,\n",
              "         25, 204],\n",
              "       [  0,   0,   0,   0,   0,   0,   0,   0,   0,  14, 354,  54,  36,\n",
              "         19, 143],\n",
              "       [  0,   0,   0,   0,   0,   0,   0,  28,  17, 108, 201,  54,  36,\n",
              "         19, 143],\n",
              "       [  0,   0,   0,   0,   3,   4,  39, 257, 204,  54,  36,  19, 143,\n",
              "        202,  50],\n",
              "       [166,  54,  36,  19, 143,  20,  30, 355, 258, 109,  30, 356, 357,\n",
              "         25, 204]], dtype=int32)"
            ]
          },
          "metadata": {
            "tags": []
          },
          "execution_count": 126
        }
      ]
    },
    {
      "cell_type": "code",
      "metadata": {
        "id": "R7suNIKhAoZg"
      },
      "source": [
        "dict_to_reindex = {}\r\n",
        "for i, element in enumerate(sorted(set(labels))):\r\n",
        "  dict_to_reindex[element] = i"
      ],
      "execution_count": 141,
      "outputs": []
    },
    {
      "cell_type": "code",
      "metadata": {
        "colab": {
          "base_uri": "https://localhost:8080/"
        },
        "id": "S4BPk9szB3zX",
        "outputId": "805892ab-d3b6-4ce9-c530-682973b7f8d1"
      },
      "source": [
        "dict_to_reindex"
      ],
      "execution_count": 142,
      "outputs": [
        {
          "output_type": "execute_result",
          "data": {
            "text/plain": [
              "{7: 0, 26: 1, 37: 2}"
            ]
          },
          "metadata": {
            "tags": []
          },
          "execution_count": 142
        }
      ]
    },
    {
      "cell_type": "code",
      "metadata": {
        "id": "sZN6MjyXn6wz"
      },
      "source": [
        "mapped_labels = [dict_to_reindex[item] for item in labels]"
      ],
      "execution_count": 143,
      "outputs": []
    },
    {
      "cell_type": "code",
      "metadata": {
        "colab": {
          "base_uri": "https://localhost:8080/"
        },
        "id": "x52KhsiqC4An",
        "outputId": "18183870-cdfa-45a8-f351-f77cce5c15b8"
      },
      "source": [
        "len(mapped_labels)"
      ],
      "execution_count": 145,
      "outputs": [
        {
          "output_type": "execute_result",
          "data": {
            "text/plain": [
              "346"
            ]
          },
          "metadata": {
            "tags": []
          },
          "execution_count": 145
        }
      ]
    },
    {
      "cell_type": "code",
      "metadata": {
        "colab": {
          "base_uri": "https://localhost:8080/"
        },
        "id": "6jEGkMIhXCZW",
        "outputId": "8dff397e-50d9-4daf-fecd-c41e8e7e3a64"
      },
      "source": [
        "from tensorflow.keras.utils import to_categorical\r\n",
        "\r\n",
        "labels_vectorized = to_categorical(mapped_labels )\r\n",
        "\r\n",
        "print(\"Shape of labels is \", labels_vectorized.shape)\r\n",
        "\r\n",
        "labels_vectorized"
      ],
      "execution_count": 146,
      "outputs": [
        {
          "output_type": "stream",
          "text": [
            "Shape of labels is  (346, 3)\n"
          ],
          "name": "stdout"
        },
        {
          "output_type": "execute_result",
          "data": {
            "text/plain": [
              "array([[1., 0., 0.],\n",
              "       [1., 0., 0.],\n",
              "       [1., 0., 0.],\n",
              "       ...,\n",
              "       [0., 0., 1.],\n",
              "       [0., 0., 1.],\n",
              "       [0., 0., 1.]], dtype=float32)"
            ]
          },
          "metadata": {
            "tags": []
          },
          "execution_count": 146
        }
      ]
    },
    {
      "cell_type": "code",
      "metadata": {
        "id": "GDsaQ-axN_CH"
      },
      "source": [
        "# shuffle the data\r\n",
        "\r\n",
        "indices = np.arange(len(mapped_labels))     # create indices to shuffle data\r\n",
        "np.random.shuffle(indices)\r\n",
        "\r\n",
        "X = text_vectorized[indices]\r\n",
        "y = labels_vectorized[indices]"
      ],
      "execution_count": 147,
      "outputs": []
    },
    {
      "cell_type": "code",
      "metadata": {
        "id": "eL7hKJGTQqfY"
      },
      "source": [
        "training_size = 270\r\n",
        "\r\n",
        "train_X = X[:training_size]\r\n",
        "train_y = y[:training_size]\r\n",
        "\r\n",
        "valid_X = X[training_size:]\r\n",
        "valid_y = y[training_size:]"
      ],
      "execution_count": 148,
      "outputs": []
    },
    {
      "cell_type": "code",
      "metadata": {
        "colab": {
          "base_uri": "https://localhost:8080/"
        },
        "id": "aCwnWBxpRjlY",
        "outputId": "842117ec-0954-44d7-8f02-563604669865"
      },
      "source": [
        "print(\"Shape of training inputs \", train_X.shape)     # shape should be (sample_size, len_of_each_sequence)\r\n",
        "print(\"Shape of training outputs \", train_y.shape)    # shape should be (sample_size, len_of_one_hot_encoded_vector)\r\n"
      ],
      "execution_count": 149,
      "outputs": [
        {
          "output_type": "stream",
          "text": [
            "Shape of training inputs  (270, 15)\n",
            "Shape of training outputs  (270, 3)\n"
          ],
          "name": "stdout"
        }
      ]
    },
    {
      "cell_type": "code",
      "metadata": {
        "colab": {
          "base_uri": "https://localhost:8080/"
        },
        "id": "jn3t0eDRaV-z",
        "outputId": "59ed386e-f214-4a42-c361-982ec3636c41"
      },
      "source": [
        "print(\"Shape of validation inputs \", valid_X.shape)     \r\n",
        "print(\"Shape of validation outputs \", valid_y.shape)"
      ],
      "execution_count": 150,
      "outputs": [
        {
          "output_type": "stream",
          "text": [
            "Shape of validation inputs  (76, 15)\n",
            "Shape of validation outputs  (76, 3)\n"
          ],
          "name": "stdout"
        }
      ]
    },
    {
      "cell_type": "code",
      "metadata": {
        "colab": {
          "base_uri": "https://localhost:8080/"
        },
        "id": "XeyifI9iakFt",
        "outputId": "8ca17692-73af-45d6-8c0b-8c879e032f2c"
      },
      "source": [
        "embedding_dim = 32\r\n",
        "\r\n",
        "from keras.models import Sequential\r\n",
        "from keras.layers import Embedding, SimpleRNN, Flatten, Dense\r\n",
        "\r\n",
        "model = Sequential()\r\n",
        "model.add(Embedding(max_words, embedding_dim, input_length=maxlen))\r\n",
        "model.add(SimpleRNN(64))\r\n",
        "model.add(Flatten())\r\n",
        "model.add(Dense(64, activation='relu'))\r\n",
        "model.add(Dense(train_y.shape[1], activation='softmax'))\r\n",
        "model.summary()"
      ],
      "execution_count": 151,
      "outputs": [
        {
          "output_type": "stream",
          "text": [
            "Model: \"sequential_7\"\n",
            "_________________________________________________________________\n",
            "Layer (type)                 Output Shape              Param #   \n",
            "=================================================================\n",
            "embedding_7 (Embedding)      (None, 15, 32)            320000    \n",
            "_________________________________________________________________\n",
            "simple_rnn_3 (SimpleRNN)     (None, 64)                6208      \n",
            "_________________________________________________________________\n",
            "flatten_7 (Flatten)          (None, 64)                0         \n",
            "_________________________________________________________________\n",
            "dense_13 (Dense)             (None, 64)                4160      \n",
            "_________________________________________________________________\n",
            "dense_14 (Dense)             (None, 3)                 195       \n",
            "=================================================================\n",
            "Total params: 330,563\n",
            "Trainable params: 330,563\n",
            "Non-trainable params: 0\n",
            "_________________________________________________________________\n"
          ],
          "name": "stdout"
        }
      ]
    },
    {
      "cell_type": "code",
      "metadata": {
        "id": "Mk5n96xfuQff"
      },
      "source": [
        "\r\n",
        "model.compile(optimizer='rmsprop',\r\n",
        "              loss='categorical_crossentropy',\r\n",
        "              metrics=['accuracy'])"
      ],
      "execution_count": 152,
      "outputs": []
    },
    {
      "cell_type": "code",
      "metadata": {
        "colab": {
          "base_uri": "https://localhost:8080/"
        },
        "id": "IW0byicN2Q3y",
        "outputId": "cf4bb1d3-f80d-4581-843f-f881beafdc85"
      },
      "source": [
        "epochs = 100\r\n",
        "batch_size = 32\r\n",
        "\r\n",
        "model.fit(train_X, train_y, epochs=epochs, batch_size=batch_size, validation_data=(valid_X, valid_y))"
      ],
      "execution_count": 153,
      "outputs": [
        {
          "output_type": "stream",
          "text": [
            "Epoch 1/100\n",
            "9/9 [==============================] - 2s 72ms/step - loss: 1.0681 - accuracy: 0.3997 - val_loss: 1.0544 - val_accuracy: 0.4474\n",
            "Epoch 2/100\n",
            "9/9 [==============================] - 0s 10ms/step - loss: 0.8689 - accuracy: 0.6150 - val_loss: 0.8521 - val_accuracy: 0.6053\n",
            "Epoch 3/100\n",
            "9/9 [==============================] - 0s 10ms/step - loss: 0.6884 - accuracy: 0.7186 - val_loss: 1.0606 - val_accuracy: 0.3947\n",
            "Epoch 4/100\n",
            "9/9 [==============================] - 0s 10ms/step - loss: 0.5950 - accuracy: 0.7606 - val_loss: 0.6583 - val_accuracy: 0.7237\n",
            "Epoch 5/100\n",
            "9/9 [==============================] - 0s 10ms/step - loss: 0.4094 - accuracy: 0.8754 - val_loss: 0.6227 - val_accuracy: 0.7368\n",
            "Epoch 6/100\n",
            "9/9 [==============================] - 0s 10ms/step - loss: 0.3148 - accuracy: 0.9287 - val_loss: 0.5979 - val_accuracy: 0.6974\n",
            "Epoch 7/100\n",
            "9/9 [==============================] - 0s 13ms/step - loss: 0.1785 - accuracy: 0.9580 - val_loss: 0.6157 - val_accuracy: 0.7368\n",
            "Epoch 8/100\n",
            "9/9 [==============================] - 0s 12ms/step - loss: 0.1303 - accuracy: 0.9729 - val_loss: 0.5907 - val_accuracy: 0.7368\n",
            "Epoch 9/100\n",
            "9/9 [==============================] - 0s 10ms/step - loss: 0.0901 - accuracy: 0.9767 - val_loss: 0.5085 - val_accuracy: 0.8026\n",
            "Epoch 10/100\n",
            "9/9 [==============================] - 0s 10ms/step - loss: 0.0782 - accuracy: 0.9787 - val_loss: 0.4780 - val_accuracy: 0.7763\n",
            "Epoch 11/100\n",
            "9/9 [==============================] - 0s 10ms/step - loss: 0.0317 - accuracy: 1.0000 - val_loss: 0.5602 - val_accuracy: 0.7368\n",
            "Epoch 12/100\n",
            "9/9 [==============================] - 0s 10ms/step - loss: 0.0207 - accuracy: 0.9974 - val_loss: 1.0594 - val_accuracy: 0.7105\n",
            "Epoch 13/100\n",
            "9/9 [==============================] - 0s 11ms/step - loss: 0.0314 - accuracy: 0.9908 - val_loss: 0.6656 - val_accuracy: 0.7368\n",
            "Epoch 14/100\n",
            "9/9 [==============================] - 0s 10ms/step - loss: 0.0126 - accuracy: 0.9985 - val_loss: 1.1001 - val_accuracy: 0.6053\n",
            "Epoch 15/100\n",
            "9/9 [==============================] - 0s 10ms/step - loss: 0.0937 - accuracy: 0.9764 - val_loss: 0.5420 - val_accuracy: 0.7500\n",
            "Epoch 16/100\n",
            "9/9 [==============================] - 0s 10ms/step - loss: 0.0086 - accuracy: 1.0000 - val_loss: 0.5554 - val_accuracy: 0.8026\n",
            "Epoch 17/100\n",
            "9/9 [==============================] - 0s 10ms/step - loss: 0.0039 - accuracy: 1.0000 - val_loss: 0.7279 - val_accuracy: 0.7500\n",
            "Epoch 18/100\n",
            "9/9 [==============================] - 0s 12ms/step - loss: 0.0052 - accuracy: 1.0000 - val_loss: 0.7429 - val_accuracy: 0.7500\n",
            "Epoch 19/100\n",
            "9/9 [==============================] - 0s 10ms/step - loss: 0.0017 - accuracy: 1.0000 - val_loss: 0.7717 - val_accuracy: 0.7500\n",
            "Epoch 20/100\n",
            "9/9 [==============================] - 0s 11ms/step - loss: 0.0018 - accuracy: 1.0000 - val_loss: 0.6639 - val_accuracy: 0.7500\n",
            "Epoch 21/100\n",
            "9/9 [==============================] - 0s 10ms/step - loss: 0.0181 - accuracy: 0.9955 - val_loss: 0.8016 - val_accuracy: 0.7632\n",
            "Epoch 22/100\n",
            "9/9 [==============================] - 0s 10ms/step - loss: 0.0013 - accuracy: 1.0000 - val_loss: 0.8287 - val_accuracy: 0.7763\n",
            "Epoch 23/100\n",
            "9/9 [==============================] - 0s 11ms/step - loss: 6.9856e-04 - accuracy: 1.0000 - val_loss: 0.8738 - val_accuracy: 0.7368\n",
            "Epoch 24/100\n",
            "9/9 [==============================] - 0s 10ms/step - loss: 5.1479e-04 - accuracy: 1.0000 - val_loss: 0.8973 - val_accuracy: 0.7500\n",
            "Epoch 25/100\n",
            "9/9 [==============================] - 0s 10ms/step - loss: 3.1800e-04 - accuracy: 1.0000 - val_loss: 0.9396 - val_accuracy: 0.7632\n",
            "Epoch 26/100\n",
            "9/9 [==============================] - 0s 10ms/step - loss: 9.1200e-04 - accuracy: 1.0000 - val_loss: 0.6007 - val_accuracy: 0.7500\n",
            "Epoch 27/100\n",
            "9/9 [==============================] - 0s 10ms/step - loss: 4.6465e-04 - accuracy: 1.0000 - val_loss: 0.5940 - val_accuracy: 0.7763\n",
            "Epoch 28/100\n",
            "9/9 [==============================] - 0s 10ms/step - loss: 1.9234e-04 - accuracy: 1.0000 - val_loss: 0.6300 - val_accuracy: 0.7763\n",
            "Epoch 29/100\n",
            "9/9 [==============================] - 0s 12ms/step - loss: 8.4961e-05 - accuracy: 1.0000 - val_loss: 0.7475 - val_accuracy: 0.7895\n",
            "Epoch 30/100\n",
            "9/9 [==============================] - 0s 11ms/step - loss: 8.2128e-05 - accuracy: 1.0000 - val_loss: 0.7106 - val_accuracy: 0.7895\n",
            "Epoch 31/100\n",
            "9/9 [==============================] - 0s 10ms/step - loss: 4.1133e-05 - accuracy: 1.0000 - val_loss: 0.7433 - val_accuracy: 0.7895\n",
            "Epoch 32/100\n",
            "9/9 [==============================] - 0s 10ms/step - loss: 2.5464e-05 - accuracy: 1.0000 - val_loss: 0.7760 - val_accuracy: 0.7895\n",
            "Epoch 33/100\n",
            "9/9 [==============================] - 0s 10ms/step - loss: 2.2546e-05 - accuracy: 1.0000 - val_loss: 0.8516 - val_accuracy: 0.7632\n",
            "Epoch 34/100\n",
            "9/9 [==============================] - 0s 10ms/step - loss: 1.1716e-05 - accuracy: 1.0000 - val_loss: 0.8559 - val_accuracy: 0.7500\n",
            "Epoch 35/100\n",
            "9/9 [==============================] - 0s 10ms/step - loss: 1.8147e-04 - accuracy: 1.0000 - val_loss: 0.7696 - val_accuracy: 0.7632\n",
            "Epoch 36/100\n",
            "9/9 [==============================] - 0s 12ms/step - loss: 0.0135 - accuracy: 0.9908 - val_loss: 0.7190 - val_accuracy: 0.7763\n",
            "Epoch 37/100\n",
            "9/9 [==============================] - 0s 10ms/step - loss: 4.2105e-05 - accuracy: 1.0000 - val_loss: 0.7096 - val_accuracy: 0.7763\n",
            "Epoch 38/100\n",
            "9/9 [==============================] - 0s 10ms/step - loss: 2.9478e-05 - accuracy: 1.0000 - val_loss: 0.7046 - val_accuracy: 0.7632\n",
            "Epoch 39/100\n",
            "9/9 [==============================] - 0s 11ms/step - loss: 1.7724e-05 - accuracy: 1.0000 - val_loss: 0.6978 - val_accuracy: 0.7632\n",
            "Epoch 40/100\n",
            "9/9 [==============================] - 0s 10ms/step - loss: 1.2385e-05 - accuracy: 1.0000 - val_loss: 0.6993 - val_accuracy: 0.7763\n",
            "Epoch 41/100\n",
            "9/9 [==============================] - 0s 10ms/step - loss: 9.2476e-06 - accuracy: 1.0000 - val_loss: 0.7032 - val_accuracy: 0.7763\n",
            "Epoch 42/100\n",
            "9/9 [==============================] - 0s 10ms/step - loss: 5.9689e-06 - accuracy: 1.0000 - val_loss: 0.7106 - val_accuracy: 0.7763\n",
            "Epoch 43/100\n",
            "9/9 [==============================] - 0s 12ms/step - loss: 5.4247e-06 - accuracy: 1.0000 - val_loss: 0.7182 - val_accuracy: 0.7895\n",
            "Epoch 44/100\n",
            "9/9 [==============================] - 0s 10ms/step - loss: 3.3490e-06 - accuracy: 1.0000 - val_loss: 0.7301 - val_accuracy: 0.8026\n",
            "Epoch 45/100\n",
            "9/9 [==============================] - 0s 10ms/step - loss: 2.5860e-06 - accuracy: 1.0000 - val_loss: 0.7510 - val_accuracy: 0.8158\n",
            "Epoch 46/100\n",
            "9/9 [==============================] - 0s 10ms/step - loss: 1.6350e-06 - accuracy: 1.0000 - val_loss: 0.7707 - val_accuracy: 0.8158\n",
            "Epoch 47/100\n",
            "9/9 [==============================] - 0s 11ms/step - loss: 1.1044e-06 - accuracy: 1.0000 - val_loss: 0.7973 - val_accuracy: 0.8158\n",
            "Epoch 48/100\n",
            "9/9 [==============================] - 0s 11ms/step - loss: 9.2168e-07 - accuracy: 1.0000 - val_loss: 0.8196 - val_accuracy: 0.8289\n",
            "Epoch 49/100\n",
            "9/9 [==============================] - 0s 10ms/step - loss: 5.1212e-07 - accuracy: 1.0000 - val_loss: 0.8798 - val_accuracy: 0.8158\n",
            "Epoch 50/100\n",
            "9/9 [==============================] - 0s 12ms/step - loss: 3.8363e-07 - accuracy: 1.0000 - val_loss: 0.9070 - val_accuracy: 0.8289\n",
            "Epoch 51/100\n",
            "9/9 [==============================] - 0s 10ms/step - loss: 2.7168e-07 - accuracy: 1.0000 - val_loss: 0.9293 - val_accuracy: 0.8289\n",
            "Epoch 52/100\n",
            "9/9 [==============================] - 0s 10ms/step - loss: 1.7462e-07 - accuracy: 1.0000 - val_loss: 0.9638 - val_accuracy: 0.8158\n",
            "Epoch 53/100\n",
            "9/9 [==============================] - 0s 10ms/step - loss: 1.0545e-07 - accuracy: 1.0000 - val_loss: 1.0050 - val_accuracy: 0.8158\n",
            "Epoch 54/100\n",
            "9/9 [==============================] - 0s 15ms/step - loss: 8.1672e-08 - accuracy: 1.0000 - val_loss: 1.0186 - val_accuracy: 0.8421\n",
            "Epoch 55/100\n",
            "9/9 [==============================] - 0s 16ms/step - loss: 1.0532e-07 - accuracy: 1.0000 - val_loss: 1.0597 - val_accuracy: 0.8289\n",
            "Epoch 56/100\n",
            "9/9 [==============================] - 0s 13ms/step - loss: 3.8501e-08 - accuracy: 1.0000 - val_loss: 1.0848 - val_accuracy: 0.8289\n",
            "Epoch 57/100\n",
            "9/9 [==============================] - 0s 14ms/step - loss: 3.7297e-08 - accuracy: 1.0000 - val_loss: 1.1103 - val_accuracy: 0.8289\n",
            "Epoch 58/100\n",
            "9/9 [==============================] - 0s 14ms/step - loss: 1.9738e-08 - accuracy: 1.0000 - val_loss: 1.1599 - val_accuracy: 0.8289\n",
            "Epoch 59/100\n",
            "9/9 [==============================] - 0s 14ms/step - loss: 9.4467e-09 - accuracy: 1.0000 - val_loss: 1.1320 - val_accuracy: 0.8289\n",
            "Epoch 60/100\n",
            "9/9 [==============================] - 0s 39ms/step - loss: 0.0013 - accuracy: 1.0000 - val_loss: 1.1149 - val_accuracy: 0.8026\n",
            "Epoch 61/100\n",
            "9/9 [==============================] - 0s 10ms/step - loss: 3.2277e-05 - accuracy: 1.0000 - val_loss: 1.1591 - val_accuracy: 0.7763\n",
            "Epoch 62/100\n",
            "9/9 [==============================] - 0s 10ms/step - loss: 8.1632e-07 - accuracy: 1.0000 - val_loss: 1.1117 - val_accuracy: 0.7763\n",
            "Epoch 63/100\n",
            "9/9 [==============================] - 0s 10ms/step - loss: 1.3268e-06 - accuracy: 1.0000 - val_loss: 1.1001 - val_accuracy: 0.7895\n",
            "Epoch 64/100\n",
            "9/9 [==============================] - 0s 10ms/step - loss: 3.4324e-07 - accuracy: 1.0000 - val_loss: 1.0981 - val_accuracy: 0.7895\n",
            "Epoch 65/100\n",
            "9/9 [==============================] - 0s 12ms/step - loss: 4.6715e-07 - accuracy: 1.0000 - val_loss: 1.0869 - val_accuracy: 0.7895\n",
            "Epoch 66/100\n",
            "9/9 [==============================] - 0s 10ms/step - loss: 2.3659e-07 - accuracy: 1.0000 - val_loss: 1.0831 - val_accuracy: 0.7895\n",
            "Epoch 67/100\n",
            "9/9 [==============================] - 0s 12ms/step - loss: 1.4284e-07 - accuracy: 1.0000 - val_loss: 1.1295 - val_accuracy: 0.7632\n",
            "Epoch 68/100\n",
            "9/9 [==============================] - 0s 10ms/step - loss: 2.0277e-07 - accuracy: 1.0000 - val_loss: 1.0647 - val_accuracy: 0.7895\n",
            "Epoch 69/100\n",
            "9/9 [==============================] - 0s 10ms/step - loss: 8.1084e-08 - accuracy: 1.0000 - val_loss: 1.0602 - val_accuracy: 0.7895\n",
            "Epoch 70/100\n",
            "9/9 [==============================] - 0s 10ms/step - loss: 9.2176e-08 - accuracy: 1.0000 - val_loss: 1.1451 - val_accuracy: 0.7632\n",
            "Epoch 71/100\n",
            "9/9 [==============================] - 0s 13ms/step - loss: 7.9984e-08 - accuracy: 1.0000 - val_loss: 1.0591 - val_accuracy: 0.7763\n",
            "Epoch 72/100\n",
            "9/9 [==============================] - 0s 13ms/step - loss: 4.2463e-08 - accuracy: 1.0000 - val_loss: 1.2045 - val_accuracy: 0.7632\n",
            "Epoch 73/100\n",
            "9/9 [==============================] - 0s 14ms/step - loss: 3.6555e-08 - accuracy: 1.0000 - val_loss: 1.1125 - val_accuracy: 0.7632\n",
            "Epoch 74/100\n",
            "9/9 [==============================] - 0s 14ms/step - loss: 3.9889e-08 - accuracy: 1.0000 - val_loss: 1.0777 - val_accuracy: 0.7763\n",
            "Epoch 75/100\n",
            "9/9 [==============================] - 0s 14ms/step - loss: 2.9875e-08 - accuracy: 1.0000 - val_loss: 1.0656 - val_accuracy: 0.7895\n",
            "Epoch 76/100\n",
            "9/9 [==============================] - 0s 14ms/step - loss: 2.5925e-08 - accuracy: 1.0000 - val_loss: 1.0502 - val_accuracy: 0.7763\n",
            "Epoch 77/100\n",
            "9/9 [==============================] - 0s 13ms/step - loss: 1.8321e-08 - accuracy: 1.0000 - val_loss: 1.0595 - val_accuracy: 0.7763\n",
            "Epoch 78/100\n",
            "9/9 [==============================] - 0s 13ms/step - loss: 1.2848e-08 - accuracy: 1.0000 - val_loss: 1.0391 - val_accuracy: 0.7763\n",
            "Epoch 79/100\n",
            "9/9 [==============================] - 0s 11ms/step - loss: 7.6067e-09 - accuracy: 1.0000 - val_loss: 1.1321 - val_accuracy: 0.7500\n",
            "Epoch 80/100\n",
            "9/9 [==============================] - 0s 10ms/step - loss: 6.5243e-09 - accuracy: 1.0000 - val_loss: 1.0526 - val_accuracy: 0.7763\n",
            "Epoch 81/100\n",
            "9/9 [==============================] - 0s 12ms/step - loss: 3.8592e-09 - accuracy: 1.0000 - val_loss: 1.0506 - val_accuracy: 0.8026\n",
            "Epoch 82/100\n",
            "9/9 [==============================] - 0s 10ms/step - loss: 3.7202e-09 - accuracy: 1.0000 - val_loss: 1.0685 - val_accuracy: 0.8026\n",
            "Epoch 83/100\n",
            "9/9 [==============================] - 0s 10ms/step - loss: 1.4309e-09 - accuracy: 1.0000 - val_loss: 1.0935 - val_accuracy: 0.7763\n",
            "Epoch 84/100\n",
            "9/9 [==============================] - 0s 10ms/step - loss: 3.2468e-10 - accuracy: 1.0000 - val_loss: 1.1414 - val_accuracy: 0.7763\n",
            "Epoch 85/100\n",
            "9/9 [==============================] - 0s 11ms/step - loss: 3.2468e-10 - accuracy: 1.0000 - val_loss: 1.1711 - val_accuracy: 0.7763\n",
            "Epoch 86/100\n",
            "9/9 [==============================] - 0s 10ms/step - loss: 4.1781e-10 - accuracy: 1.0000 - val_loss: 1.1382 - val_accuracy: 0.7763\n",
            "Epoch 87/100\n",
            "9/9 [==============================] - 0s 11ms/step - loss: 5.4199e-10 - accuracy: 1.0000 - val_loss: 1.2030 - val_accuracy: 0.7895\n",
            "Epoch 88/100\n",
            "9/9 [==============================] - 0s 10ms/step - loss: 5.4199e-10 - accuracy: 1.0000 - val_loss: 1.1635 - val_accuracy: 0.7895\n",
            "Epoch 89/100\n",
            "9/9 [==============================] - 0s 11ms/step - loss: 1.8809e-10 - accuracy: 1.0000 - val_loss: 1.2885 - val_accuracy: 0.7763\n",
            "Epoch 90/100\n",
            "9/9 [==============================] - 0s 13ms/step - loss: 1.6428e-09 - accuracy: 1.0000 - val_loss: 1.2216 - val_accuracy: 0.7895\n",
            "Epoch 91/100\n",
            "9/9 [==============================] - 0s 12ms/step - loss: 1.3487e-10 - accuracy: 1.0000 - val_loss: 1.2997 - val_accuracy: 0.7895\n",
            "Epoch 92/100\n",
            "9/9 [==============================] - 0s 15ms/step - loss: 0.0000e+00 - accuracy: 1.0000 - val_loss: 1.2307 - val_accuracy: 0.7895\n",
            "Epoch 93/100\n",
            "9/9 [==============================] - 0s 14ms/step - loss: 1.8809e-10 - accuracy: 1.0000 - val_loss: 1.3162 - val_accuracy: 0.7895\n",
            "Epoch 94/100\n",
            "9/9 [==============================] - 0s 14ms/step - loss: 0.0000e+00 - accuracy: 1.0000 - val_loss: 1.3003 - val_accuracy: 0.7895\n",
            "Epoch 95/100\n",
            "9/9 [==============================] - 0s 15ms/step - loss: 0.0000e+00 - accuracy: 1.0000 - val_loss: 1.2596 - val_accuracy: 0.7895\n",
            "Epoch 96/100\n",
            "9/9 [==============================] - 0s 13ms/step - loss: 2.5018e-10 - accuracy: 1.0000 - val_loss: 1.3311 - val_accuracy: 0.7895\n",
            "Epoch 97/100\n",
            "9/9 [==============================] - 0s 13ms/step - loss: 0.0000e+00 - accuracy: 1.0000 - val_loss: 1.2843 - val_accuracy: 0.7895\n",
            "Epoch 98/100\n",
            "9/9 [==============================] - 0s 11ms/step - loss: 0.0000e+00 - accuracy: 1.0000 - val_loss: 1.3337 - val_accuracy: 0.7763\n",
            "Epoch 99/100\n",
            "9/9 [==============================] - 0s 10ms/step - loss: 1.3487e-10 - accuracy: 1.0000 - val_loss: 1.3840 - val_accuracy: 0.7763\n",
            "Epoch 100/100\n",
            "9/9 [==============================] - 0s 11ms/step - loss: 0.0000e+00 - accuracy: 1.0000 - val_loss: 1.2921 - val_accuracy: 0.8026\n"
          ],
          "name": "stdout"
        },
        {
          "output_type": "execute_result",
          "data": {
            "text/plain": [
              "<tensorflow.python.keras.callbacks.History at 0x7fc01dcf8208>"
            ]
          },
          "metadata": {
            "tags": []
          },
          "execution_count": 153
        }
      ]
    }
  ]
}