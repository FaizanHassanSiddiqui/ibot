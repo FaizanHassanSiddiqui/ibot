{
  "nbformat": 4,
  "nbformat_minor": 0,
  "metadata": {
    "colab": {
      "name": "baseline_model.ipynb",
      "provenance": [],
      "collapsed_sections": []
    },
    "kernelspec": {
      "display_name": "Python 3",
      "name": "python3"
    }
  },
  "cells": [
    {
      "cell_type": "code",
      "metadata": {
        "id": "BKTzpaIq7SPE"
      },
      "source": [
        "import json\r\n",
        "import numpy as np"
      ],
      "execution_count": 41,
      "outputs": []
    },
    {
      "cell_type": "code",
      "metadata": {
        "id": "iXzFdBmS7ht2"
      },
      "source": [
        "path = '/content/drive/MyDrive/Project Common folder/Usman_Folder/data/allData.json'\r\n",
        "\r\n",
        "with open(path, 'r') as f:\r\n",
        "  all_data = json.load(f)"
      ],
      "execution_count": 42,
      "outputs": []
    },
    {
      "cell_type": "code",
      "metadata": {
        "colab": {
          "base_uri": "https://localhost:8080/"
        },
        "id": "A2oftKQQ8tEX",
        "outputId": "e1a9d1ec-fd40-4b9c-c83c-63c897c8b961"
      },
      "source": [
        "len(all_data)"
      ],
      "execution_count": 43,
      "outputs": [
        {
          "output_type": "execute_result",
          "data": {
            "text/plain": [
              "3017"
            ]
          },
          "metadata": {
            "tags": []
          },
          "execution_count": 43
        }
      ]
    },
    {
      "cell_type": "code",
      "metadata": {
        "colab": {
          "base_uri": "https://localhost:8080/"
        },
        "id": "Dw3ys_hq8wy5",
        "outputId": "366a554b-b939-4415-ec47-265457bb9400"
      },
      "source": [
        "all_data[0].keys()"
      ],
      "execution_count": 44,
      "outputs": [
        {
          "output_type": "execute_result",
          "data": {
            "text/plain": [
              "dict_keys(['question', 'intent', 'answer'])"
            ]
          },
          "metadata": {
            "tags": []
          },
          "execution_count": 44
        }
      ]
    },
    {
      "cell_type": "code",
      "metadata": {
        "id": "EfxVkd7P--GD"
      },
      "source": [
        "legal_list = []\r\n",
        "def_list = []\r\n",
        "\r\n",
        "for data in all_data:\r\n",
        "  if data['intent']=='legal':\r\n",
        "    legal_list.append(data)\r\n",
        "  if data['intent']=='definition':\r\n",
        "    def_list.append(data)\r\n",
        "\r\n",
        "legal_list = legal_list[:900]\r\n",
        "def_list = def_list[:900]"
      ],
      "execution_count": 45,
      "outputs": []
    },
    {
      "cell_type": "code",
      "metadata": {
        "id": "gDypO_AE84UR"
      },
      "source": [
        "import tensorflow as tf\r\n",
        "from tensorflow.keras.models import Sequential\r\n",
        "from tensorflow.keras.layers import Embedding, SimpleRNN, LSTM, Dense\r\n",
        "from tensorflow.keras.optimizers import RMSprop\r\n",
        "from tensorflow.keras.utils import to_categorical\r\n",
        "from tensorflow.keras.preprocessing.text import Tokenizer\r\n",
        "from tensorflow.keras.preprocessing.sequence import pad_sequences "
      ],
      "execution_count": 46,
      "outputs": []
    },
    {
      "cell_type": "code",
      "metadata": {
        "id": "pZomGkkS9fvh"
      },
      "source": [
        "questions = []\r\n",
        "intents = []\r\n",
        "\r\n",
        "\r\n",
        "for data_point in legal_list:\r\n",
        "  questions.append(data_point['question'])\r\n",
        "  intents.append(data_point['intent'])\r\n",
        "for data_point in def_list:\r\n",
        "  questions.append(data_point['question'])\r\n",
        "  intents.append(data_point['intent'])"
      ],
      "execution_count": 47,
      "outputs": []
    },
    {
      "cell_type": "code",
      "metadata": {
        "colab": {
          "base_uri": "https://localhost:8080/"
        },
        "id": "RadaMLPV-ho8",
        "outputId": "ae349a10-c3e8-42d4-8bb8-409b5196a55e"
      },
      "source": [
        "print(\"Number of question: \", len(questions), \"\\nNumber of labels: \", len(intents))"
      ],
      "execution_count": 48,
      "outputs": [
        {
          "output_type": "stream",
          "text": [
            "Number of question:  1800 \n",
            "Number of labels:  1800\n"
          ],
          "name": "stdout"
        }
      ]
    },
    {
      "cell_type": "code",
      "metadata": {
        "id": "qDU9BBjiGM1l"
      },
      "source": [
        "labels = [0 if element == 'definition' else 1  for element in intents ]"
      ],
      "execution_count": 49,
      "outputs": []
    },
    {
      "cell_type": "code",
      "metadata": {
        "colab": {
          "base_uri": "https://localhost:8080/"
        },
        "id": "jZEt1W3OwTPQ",
        "outputId": "9cf4a05e-baa9-4e47-d8b1-1ec051bbda3c"
      },
      "source": [
        "labels[:10]"
      ],
      "execution_count": 50,
      "outputs": [
        {
          "output_type": "execute_result",
          "data": {
            "text/plain": [
              "[1, 1, 1, 1, 1, 1, 1, 1, 1, 1]"
            ]
          },
          "metadata": {
            "tags": []
          },
          "execution_count": 50
        }
      ]
    },
    {
      "cell_type": "code",
      "metadata": {
        "id": "vBbJunNvTSPA"
      },
      "source": [
        "labels = np.array(labels)\r\n",
        "utterances = np.array(questions)"
      ],
      "execution_count": 51,
      "outputs": []
    },
    {
      "cell_type": "code",
      "metadata": {
        "colab": {
          "base_uri": "https://localhost:8080/"
        },
        "id": "Z3CCaWOVzaVK",
        "outputId": "a233e7fc-e3b7-454d-a5af-90f69fc6d035"
      },
      "source": [
        "utterances.shape"
      ],
      "execution_count": 26,
      "outputs": [
        {
          "output_type": "execute_result",
          "data": {
            "text/plain": [
              "(1800,)"
            ]
          },
          "metadata": {
            "tags": []
          },
          "execution_count": 26
        }
      ]
    },
    {
      "cell_type": "code",
      "metadata": {
        "colab": {
          "base_uri": "https://localhost:8080/"
        },
        "id": "VrpAOpNyUC84",
        "outputId": "71114334-03fa-466c-810a-9fdcd592301d"
      },
      "source": [
        "indices = np.arange(utterances.shape[0])\r\n",
        "np.random.shuffle(indices)\r\n",
        "indices"
      ],
      "execution_count": 86,
      "outputs": [
        {
          "output_type": "execute_result",
          "data": {
            "text/plain": [
              "array([ 562, 1006, 1599, ..., 1227,  900, 1412])"
            ]
          },
          "metadata": {
            "tags": []
          },
          "execution_count": 86
        }
      ]
    },
    {
      "cell_type": "code",
      "metadata": {
        "id": "PcR31WOTWx3G"
      },
      "source": [
        "utterances = utterances[indices]\r\n",
        "labels = labels[indices]"
      ],
      "execution_count": 87,
      "outputs": []
    },
    {
      "cell_type": "code",
      "metadata": {
        "id": "PAzCNyrbXJ45"
      },
      "source": [
        "train_X = utterances[:700]\r\n",
        "train_y = labels[:700]\r\n",
        "\r\n",
        "test_X = utterances[700:]\r\n",
        "test_y = labels[700:]"
      ],
      "execution_count": 88,
      "outputs": []
    },
    {
      "cell_type": "code",
      "metadata": {
        "colab": {
          "base_uri": "https://localhost:8080/"
        },
        "id": "-Hmo0m01L1HR",
        "outputId": "48310126-dc93-4511-de11-422b45bd5839"
      },
      "source": [
        "train_y[:10]"
      ],
      "execution_count": 89,
      "outputs": [
        {
          "output_type": "execute_result",
          "data": {
            "text/plain": [
              "array([1, 0, 0, 1, 1, 1, 1, 0, 1, 0])"
            ]
          },
          "metadata": {
            "tags": []
          },
          "execution_count": 89
        }
      ]
    },
    {
      "cell_type": "code",
      "metadata": {
        "id": "hJ47BC5oxH1a"
      },
      "source": [
        "raw_train_data =  tf.data.Dataset.from_tensor_slices((train_X,train_y))\r\n",
        "\r\n",
        "raw_val_data = tf.data.Dataset.from_tensor_slices((test_X,test_y))"
      ],
      "execution_count": 104,
      "outputs": []
    },
    {
      "cell_type": "code",
      "metadata": {
        "colab": {
          "base_uri": "https://localhost:8080/"
        },
        "id": "kMeGRDTiLlKi",
        "outputId": "f241cd99-c208-4630-85b3-fef79afeceb5"
      },
      "source": [
        "for text_batch, label_batch in raw_train_data.take(1):\r\n",
        "\r\n",
        "  print(chr(text_batch.numpy()[4]))\r\n",
        "  print(label_batch.numpy())\r\n",
        "  # for i in range(3):\r\n",
        "  #   print(\"Review\", text_batch.numpy()[i])\r\n",
        "  #   print(\"Label\", label_batch.numpy()[i])"
      ],
      "execution_count": 102,
      "outputs": [
        {
          "output_type": "stream",
          "text": [
            "a\n",
            "1\n"
          ],
          "name": "stdout"
        }
      ]
    },
    {
      "cell_type": "code",
      "metadata": {
        "colab": {
          "base_uri": "https://localhost:8080/"
        },
        "id": "wtMRmtbZKfg4",
        "outputId": "7d0b0bde-673c-47b3-d5c6-d86ec9fdf45d"
      },
      "source": [
        "next(iter(raw_train_data))"
      ],
      "execution_count": 80,
      "outputs": [
        {
          "output_type": "execute_result",
          "data": {
            "text/plain": [
              "(<tf.Tensor: shape=(), dtype=string, numpy=b'Can we use agency agreements for portfolio managers?'>,\n",
              " <tf.Tensor: shape=(), dtype=int64, numpy=1>)"
            ]
          },
          "metadata": {
            "tags": []
          },
          "execution_count": 80
        }
      ]
    },
    {
      "cell_type": "code",
      "metadata": {
        "id": "KK9wVONxKpE_"
      },
      "source": [
        ""
      ],
      "execution_count": null,
      "outputs": []
    },
    {
      "cell_type": "code",
      "metadata": {
        "id": "_HXPyZDevF6B"
      },
      "source": [
        "import re\r\n",
        "import string\r\n",
        "\r\n",
        "def custom_standardization(input_data):\r\n",
        "  lowercase = tf.strings.lower(input_data)\r\n",
        "  stripped_html = tf.strings.regex_replace(lowercase, '<br />', ' ')\r\n",
        "  return tf.strings.regex_replace(stripped_html,\r\n",
        "                                  '[%s]' % re.escape(string.punctuation),\r\n",
        "                                  '')\r\n",
        "  \r\n",
        "from tensorflow.keras.layers.experimental.preprocessing import TextVectorization\r\n",
        "\r\n",
        "max_features = 10000\r\n",
        "sequence_length = 250\r\n",
        "\r\n",
        "vectorize_layer = TextVectorization(\r\n",
        "    standardize=custom_standardization,\r\n",
        "    max_tokens=max_features,\r\n",
        "    output_mode='int',\r\n",
        "    output_sequence_length=sequence_length)\r\n",
        "\r\n",
        "# Make a text-only dataset (without labels), then call adapt\r\n",
        "train_text = raw_train_data.map(lambda x, y: x)\r\n",
        "vectorize_layer.adapt(train_text)"
      ],
      "execution_count": 105,
      "outputs": []
    },
    {
      "cell_type": "code",
      "metadata": {
        "colab": {
          "base_uri": "https://localhost:8080/"
        },
        "id": "zaLxWs1tI6nu",
        "outputId": "0f2fdda5-d123-4dfe-bb42-a9bc1b6f9bb4"
      },
      "source": [
        "for j, item in enumerate(train_text):\r\n",
        "  print(item)\r\n",
        "  if j == 2:\r\n",
        "    break"
      ],
      "execution_count": 76,
      "outputs": [
        {
          "output_type": "stream",
          "text": [
            "tf.Tensor(b'Can we use agency agreements for portfolio managers?', shape=(), dtype=string)\n",
            "tf.Tensor(b'What acts may the commissioned agent perform on behalf of the grantor?', shape=(), dtype=string)\n",
            "tf.Tensor(b'What does an agents failure in conforming to his grantors specific instructions result in?', shape=(), dtype=string)\n"
          ],
          "name": "stdout"
        }
      ]
    },
    {
      "cell_type": "code",
      "metadata": {
        "id": "9ZqCalynvd2P"
      },
      "source": [
        "def vectorize_text(text, label):\r\n",
        "  text = tf.expand_dims(text, -1)\r\n",
        "  label =  tf.expand_dims(label, -1)\r\n",
        "  return vectorize_layer(text), label"
      ],
      "execution_count": 106,
      "outputs": []
    },
    {
      "cell_type": "code",
      "metadata": {
        "id": "LlagSsu-vido"
      },
      "source": [
        "train_ds = raw_train_data.map(vectorize_text)\r\n",
        "val_ds = raw_val_data.map(vectorize_text)\r\n",
        "# test_ds = raw_test_ds.map(vectorize_text)"
      ],
      "execution_count": 107,
      "outputs": []
    },
    {
      "cell_type": "code",
      "metadata": {
        "colab": {
          "base_uri": "https://localhost:8080/"
        },
        "id": "q6wRsVkBKDBV",
        "outputId": "20da12fa-edd1-44f7-a276-8796b96ae1c0"
      },
      "source": [
        "next(iter(train_ds))"
      ],
      "execution_count": 108,
      "outputs": [
        {
          "output_type": "execute_result",
          "data": {
            "text/plain": [
              "(<tf.Tensor: shape=(1, 250), dtype=int64, numpy=\n",
              " array([[  77,   20,    2,   69,  296, 1220,   28,    5,   46,   41,    0,\n",
              "            0,    0,    0,    0,    0,    0,    0,    0,    0,    0,    0,\n",
              "            0,    0,    0,    0,    0,    0,    0,    0,    0,    0,    0,\n",
              "            0,    0,    0,    0,    0,    0,    0,    0,    0,    0,    0,\n",
              "            0,    0,    0,    0,    0,    0,    0,    0,    0,    0,    0,\n",
              "            0,    0,    0,    0,    0,    0,    0,    0,    0,    0,    0,\n",
              "            0,    0,    0,    0,    0,    0,    0,    0,    0,    0,    0,\n",
              "            0,    0,    0,    0,    0,    0,    0,    0,    0,    0,    0,\n",
              "            0,    0,    0,    0,    0,    0,    0,    0,    0,    0,    0,\n",
              "            0,    0,    0,    0,    0,    0,    0,    0,    0,    0,    0,\n",
              "            0,    0,    0,    0,    0,    0,    0,    0,    0,    0,    0,\n",
              "            0,    0,    0,    0,    0,    0,    0,    0,    0,    0,    0,\n",
              "            0,    0,    0,    0,    0,    0,    0,    0,    0,    0,    0,\n",
              "            0,    0,    0,    0,    0,    0,    0,    0,    0,    0,    0,\n",
              "            0,    0,    0,    0,    0,    0,    0,    0,    0,    0,    0,\n",
              "            0,    0,    0,    0,    0,    0,    0,    0,    0,    0,    0,\n",
              "            0,    0,    0,    0,    0,    0,    0,    0,    0,    0,    0,\n",
              "            0,    0,    0,    0,    0,    0,    0,    0,    0,    0,    0,\n",
              "            0,    0,    0,    0,    0,    0,    0,    0,    0,    0,    0,\n",
              "            0,    0,    0,    0,    0,    0,    0,    0,    0,    0,    0,\n",
              "            0,    0,    0,    0,    0,    0,    0,    0,    0,    0,    0,\n",
              "            0,    0,    0,    0,    0,    0,    0,    0,    0,    0,    0,\n",
              "            0,    0,    0,    0,    0,    0,    0,    0]])>,\n",
              " <tf.Tensor: shape=(1,), dtype=int64, numpy=array([1])>)"
            ]
          },
          "metadata": {
            "tags": []
          },
          "execution_count": 108
        }
      ]
    },
    {
      "cell_type": "code",
      "metadata": {
        "colab": {
          "base_uri": "https://localhost:8080/"
        },
        "id": "GSGJ2FUyHaBI",
        "outputId": "67f74d04-82e3-4c65-bfc8-9b0d6b8695df"
      },
      "source": [
        "from tensorflow.keras import layers\r\n",
        "\r\n",
        "embedding_dim = 16\r\n",
        "\r\n",
        "model = tf.keras.Sequential([\r\n",
        "  layers.Embedding(max_features + 1, embedding_dim),\r\n",
        "  layers.Dropout(0.2),\r\n",
        "  layers.GlobalAveragePooling1D(),\r\n",
        "  layers.Dropout(0.2),\r\n",
        "  layers.Dense(1)])\r\n",
        "\r\n",
        "model.summary()"
      ],
      "execution_count": 109,
      "outputs": [
        {
          "output_type": "stream",
          "text": [
            "Model: \"sequential_2\"\n",
            "_________________________________________________________________\n",
            "Layer (type)                 Output Shape              Param #   \n",
            "=================================================================\n",
            "embedding_1 (Embedding)      (None, None, 16)          160016    \n",
            "_________________________________________________________________\n",
            "dropout_2 (Dropout)          (None, None, 16)          0         \n",
            "_________________________________________________________________\n",
            "global_average_pooling1d_1 ( (None, 16)                0         \n",
            "_________________________________________________________________\n",
            "dropout_3 (Dropout)          (None, 16)                0         \n",
            "_________________________________________________________________\n",
            "dense_1 (Dense)              (None, 1)                 17        \n",
            "=================================================================\n",
            "Total params: 160,033\n",
            "Trainable params: 160,033\n",
            "Non-trainable params: 0\n",
            "_________________________________________________________________\n"
          ],
          "name": "stdout"
        }
      ]
    },
    {
      "cell_type": "code",
      "metadata": {
        "id": "2dJydMVZQ2EE"
      },
      "source": [
        "from tensorflow.keras import losses\r\n",
        "\r\n",
        "model.compile(loss=losses.BinaryCrossentropy(from_logits=True),\r\n",
        "              optimizer='adam',\r\n",
        "              metrics=tf.metrics.BinaryAccuracy(threshold=0.0))"
      ],
      "execution_count": 110,
      "outputs": []
    },
    {
      "cell_type": "code",
      "metadata": {
        "colab": {
          "base_uri": "https://localhost:8080/"
        },
        "id": "6ee1cn1GTESS",
        "outputId": "6f950e02-88ef-4a5f-e8e1-7c037bfe857a"
      },
      "source": [
        "type(labels)"
      ],
      "execution_count": null,
      "outputs": [
        {
          "output_type": "execute_result",
          "data": {
            "text/plain": [
              "numpy.ndarray"
            ]
          },
          "metadata": {
            "tags": []
          },
          "execution_count": 31
        }
      ]
    },
    {
      "cell_type": "code",
      "metadata": {
        "colab": {
          "base_uri": "https://localhost:8080/"
        },
        "id": "cQKZ3hZ_dAQy",
        "outputId": "2916963a-d40f-4028-836e-3f1cbb398a0a"
      },
      "source": [
        "test_y"
      ],
      "execution_count": null,
      "outputs": [
        {
          "output_type": "execute_result",
          "data": {
            "text/plain": [
              "array([0, 1, 1, ..., 0, 1, 0])"
            ]
          },
          "metadata": {
            "tags": []
          },
          "execution_count": 32
        }
      ]
    },
    {
      "cell_type": "code",
      "metadata": {
        "colab": {
          "base_uri": "https://localhost:8080/"
        },
        "id": "RhqftgXRRg9T",
        "outputId": "6f089f14-d768-4545-bd25-50bf76d72c05"
      },
      "source": [
        "model.fit(train_ds,   epochs = 100, validation_data= train_ds, validation_steps=1)"
      ],
      "execution_count": 111,
      "outputs": [
        {
          "output_type": "stream",
          "text": [
            "Epoch 1/100\n",
            "700/700 [==============================] - 3s 3ms/step - loss: 0.6906 - binary_accuracy: 0.5240 - val_loss: 0.7927 - val_binary_accuracy: 0.0000e+00\n",
            "Epoch 2/100\n",
            "700/700 [==============================] - 2s 3ms/step - loss: 0.6764 - binary_accuracy: 0.6238 - val_loss: 0.8162 - val_binary_accuracy: 0.0000e+00\n",
            "Epoch 3/100\n",
            "700/700 [==============================] - 2s 3ms/step - loss: 0.6384 - binary_accuracy: 0.7805 - val_loss: 0.8302 - val_binary_accuracy: 0.0000e+00\n",
            "Epoch 4/100\n",
            "700/700 [==============================] - 3s 4ms/step - loss: 0.5758 - binary_accuracy: 0.8331 - val_loss: 0.8368 - val_binary_accuracy: 0.0000e+00\n",
            "Epoch 5/100\n",
            "700/700 [==============================] - 3s 4ms/step - loss: 0.5041 - binary_accuracy: 0.8640 - val_loss: 0.8070 - val_binary_accuracy: 0.0000e+00\n",
            "Epoch 6/100\n",
            "700/700 [==============================] - 2s 3ms/step - loss: 0.4368 - binary_accuracy: 0.8892 - val_loss: 0.7746 - val_binary_accuracy: 0.0000e+00\n",
            "Epoch 7/100\n",
            "700/700 [==============================] - 2s 3ms/step - loss: 0.3810 - binary_accuracy: 0.9157 - val_loss: 0.7241 - val_binary_accuracy: 0.0000e+00\n",
            "Epoch 8/100\n",
            "700/700 [==============================] - 2s 3ms/step - loss: 0.3312 - binary_accuracy: 0.9165 - val_loss: 0.6578 - val_binary_accuracy: 1.0000\n",
            "Epoch 9/100\n",
            "700/700 [==============================] - 2s 3ms/step - loss: 0.2899 - binary_accuracy: 0.9314 - val_loss: 0.6037 - val_binary_accuracy: 1.0000\n",
            "Epoch 10/100\n",
            "700/700 [==============================] - 2s 3ms/step - loss: 0.2604 - binary_accuracy: 0.9341 - val_loss: 0.5551 - val_binary_accuracy: 1.0000\n",
            "Epoch 11/100\n",
            "700/700 [==============================] - 2s 3ms/step - loss: 0.2347 - binary_accuracy: 0.9439 - val_loss: 0.4525 - val_binary_accuracy: 1.0000\n",
            "Epoch 12/100\n",
            "700/700 [==============================] - 2s 3ms/step - loss: 0.2121 - binary_accuracy: 0.9392 - val_loss: 0.4165 - val_binary_accuracy: 1.0000\n",
            "Epoch 13/100\n",
            "700/700 [==============================] - 2s 3ms/step - loss: 0.1949 - binary_accuracy: 0.9446 - val_loss: 0.3733 - val_binary_accuracy: 1.0000\n",
            "Epoch 14/100\n",
            "700/700 [==============================] - 2s 3ms/step - loss: 0.1758 - binary_accuracy: 0.9441 - val_loss: 0.3034 - val_binary_accuracy: 1.0000\n",
            "Epoch 15/100\n",
            "700/700 [==============================] - 2s 3ms/step - loss: 0.1653 - binary_accuracy: 0.9539 - val_loss: 0.2511 - val_binary_accuracy: 1.0000\n",
            "Epoch 16/100\n",
            "700/700 [==============================] - 2s 3ms/step - loss: 0.1522 - binary_accuracy: 0.9502 - val_loss: 0.2182 - val_binary_accuracy: 1.0000\n",
            "Epoch 17/100\n",
            "700/700 [==============================] - 2s 3ms/step - loss: 0.1479 - binary_accuracy: 0.9523 - val_loss: 0.1975 - val_binary_accuracy: 1.0000\n",
            "Epoch 18/100\n",
            "700/700 [==============================] - 2s 3ms/step - loss: 0.1343 - binary_accuracy: 0.9561 - val_loss: 0.1682 - val_binary_accuracy: 1.0000\n",
            "Epoch 19/100\n",
            "700/700 [==============================] - 2s 3ms/step - loss: 0.1276 - binary_accuracy: 0.9568 - val_loss: 0.1294 - val_binary_accuracy: 1.0000\n",
            "Epoch 20/100\n",
            "700/700 [==============================] - 2s 3ms/step - loss: 0.1233 - binary_accuracy: 0.9609 - val_loss: 0.1241 - val_binary_accuracy: 1.0000\n",
            "Epoch 21/100\n",
            "700/700 [==============================] - 2s 3ms/step - loss: 0.1189 - binary_accuracy: 0.9592 - val_loss: 0.1132 - val_binary_accuracy: 1.0000\n",
            "Epoch 22/100\n",
            "700/700 [==============================] - 2s 3ms/step - loss: 0.1082 - binary_accuracy: 0.9682 - val_loss: 0.1076 - val_binary_accuracy: 1.0000\n",
            "Epoch 23/100\n",
            "700/700 [==============================] - 2s 3ms/step - loss: 0.1002 - binary_accuracy: 0.9689 - val_loss: 0.0954 - val_binary_accuracy: 1.0000\n",
            "Epoch 24/100\n",
            "700/700 [==============================] - 2s 3ms/step - loss: 0.1060 - binary_accuracy: 0.9712 - val_loss: 0.0839 - val_binary_accuracy: 1.0000\n",
            "Epoch 25/100\n",
            "700/700 [==============================] - 2s 3ms/step - loss: 0.0944 - binary_accuracy: 0.9681 - val_loss: 0.0747 - val_binary_accuracy: 1.0000\n",
            "Epoch 26/100\n",
            "700/700 [==============================] - 2s 3ms/step - loss: 0.0964 - binary_accuracy: 0.9704 - val_loss: 0.0595 - val_binary_accuracy: 1.0000\n",
            "Epoch 27/100\n",
            "700/700 [==============================] - 2s 3ms/step - loss: 0.0895 - binary_accuracy: 0.9725 - val_loss: 0.0590 - val_binary_accuracy: 1.0000\n",
            "Epoch 28/100\n",
            "700/700 [==============================] - 2s 3ms/step - loss: 0.0864 - binary_accuracy: 0.9717 - val_loss: 0.0575 - val_binary_accuracy: 1.0000\n",
            "Epoch 29/100\n",
            "700/700 [==============================] - 2s 3ms/step - loss: 0.0791 - binary_accuracy: 0.9740 - val_loss: 0.0493 - val_binary_accuracy: 1.0000\n",
            "Epoch 30/100\n",
            "700/700 [==============================] - 2s 3ms/step - loss: 0.0805 - binary_accuracy: 0.9769 - val_loss: 0.0426 - val_binary_accuracy: 1.0000\n",
            "Epoch 31/100\n",
            "700/700 [==============================] - 2s 3ms/step - loss: 0.0787 - binary_accuracy: 0.9734 - val_loss: 0.0392 - val_binary_accuracy: 1.0000\n",
            "Epoch 32/100\n",
            "700/700 [==============================] - 2s 3ms/step - loss: 0.0703 - binary_accuracy: 0.9721 - val_loss: 0.0332 - val_binary_accuracy: 1.0000\n",
            "Epoch 33/100\n",
            "700/700 [==============================] - 2s 3ms/step - loss: 0.0715 - binary_accuracy: 0.9751 - val_loss: 0.0333 - val_binary_accuracy: 1.0000\n",
            "Epoch 34/100\n",
            "700/700 [==============================] - 2s 3ms/step - loss: 0.0710 - binary_accuracy: 0.9841 - val_loss: 0.0306 - val_binary_accuracy: 1.0000\n",
            "Epoch 35/100\n",
            "700/700 [==============================] - 2s 3ms/step - loss: 0.0643 - binary_accuracy: 0.9841 - val_loss: 0.0261 - val_binary_accuracy: 1.0000\n",
            "Epoch 36/100\n",
            "700/700 [==============================] - 2s 3ms/step - loss: 0.0654 - binary_accuracy: 0.9838 - val_loss: 0.0260 - val_binary_accuracy: 1.0000\n",
            "Epoch 37/100\n",
            "700/700 [==============================] - 2s 3ms/step - loss: 0.0656 - binary_accuracy: 0.9809 - val_loss: 0.0237 - val_binary_accuracy: 1.0000\n",
            "Epoch 38/100\n",
            "700/700 [==============================] - 2s 3ms/step - loss: 0.0620 - binary_accuracy: 0.9843 - val_loss: 0.0201 - val_binary_accuracy: 1.0000\n",
            "Epoch 39/100\n",
            "700/700 [==============================] - 2s 3ms/step - loss: 0.0578 - binary_accuracy: 0.9854 - val_loss: 0.0258 - val_binary_accuracy: 1.0000\n",
            "Epoch 40/100\n",
            "700/700 [==============================] - 2s 3ms/step - loss: 0.0586 - binary_accuracy: 0.9813 - val_loss: 0.0177 - val_binary_accuracy: 1.0000\n",
            "Epoch 41/100\n",
            "700/700 [==============================] - 2s 3ms/step - loss: 0.0609 - binary_accuracy: 0.9884 - val_loss: 0.0213 - val_binary_accuracy: 1.0000\n",
            "Epoch 42/100\n",
            "700/700 [==============================] - 2s 3ms/step - loss: 0.0519 - binary_accuracy: 0.9891 - val_loss: 0.0174 - val_binary_accuracy: 1.0000\n",
            "Epoch 43/100\n",
            "700/700 [==============================] - 2s 3ms/step - loss: 0.0529 - binary_accuracy: 0.9889 - val_loss: 0.0146 - val_binary_accuracy: 1.0000\n",
            "Epoch 44/100\n",
            "700/700 [==============================] - 2s 3ms/step - loss: 0.0497 - binary_accuracy: 0.9936 - val_loss: 0.0141 - val_binary_accuracy: 1.0000\n",
            "Epoch 45/100\n",
            "700/700 [==============================] - 2s 3ms/step - loss: 0.0548 - binary_accuracy: 0.9891 - val_loss: 0.0144 - val_binary_accuracy: 1.0000\n",
            "Epoch 46/100\n",
            "700/700 [==============================] - 2s 3ms/step - loss: 0.0498 - binary_accuracy: 0.9891 - val_loss: 0.0145 - val_binary_accuracy: 1.0000\n",
            "Epoch 47/100\n",
            "700/700 [==============================] - 2s 3ms/step - loss: 0.0463 - binary_accuracy: 0.9895 - val_loss: 0.0156 - val_binary_accuracy: 1.0000\n",
            "Epoch 48/100\n",
            "700/700 [==============================] - 2s 3ms/step - loss: 0.0452 - binary_accuracy: 0.9868 - val_loss: 0.0121 - val_binary_accuracy: 1.0000\n",
            "Epoch 49/100\n",
            "700/700 [==============================] - 2s 3ms/step - loss: 0.0435 - binary_accuracy: 0.9893 - val_loss: 0.0120 - val_binary_accuracy: 1.0000\n",
            "Epoch 50/100\n",
            "700/700 [==============================] - 2s 3ms/step - loss: 0.0464 - binary_accuracy: 0.9891 - val_loss: 0.0142 - val_binary_accuracy: 1.0000\n",
            "Epoch 51/100\n",
            "700/700 [==============================] - 2s 3ms/step - loss: 0.0433 - binary_accuracy: 0.9891 - val_loss: 0.0120 - val_binary_accuracy: 1.0000\n",
            "Epoch 52/100\n",
            "700/700 [==============================] - 2s 3ms/step - loss: 0.0406 - binary_accuracy: 0.9895 - val_loss: 0.0098 - val_binary_accuracy: 1.0000\n",
            "Epoch 53/100\n",
            "700/700 [==============================] - 2s 3ms/step - loss: 0.0405 - binary_accuracy: 0.9884 - val_loss: 0.0079 - val_binary_accuracy: 1.0000\n",
            "Epoch 54/100\n",
            "700/700 [==============================] - 2s 3ms/step - loss: 0.0356 - binary_accuracy: 0.9929 - val_loss: 0.0071 - val_binary_accuracy: 1.0000\n",
            "Epoch 55/100\n",
            "700/700 [==============================] - 2s 3ms/step - loss: 0.0421 - binary_accuracy: 0.9895 - val_loss: 0.0077 - val_binary_accuracy: 1.0000\n",
            "Epoch 56/100\n",
            "700/700 [==============================] - 2s 3ms/step - loss: 0.0385 - binary_accuracy: 0.9895 - val_loss: 0.0090 - val_binary_accuracy: 1.0000\n",
            "Epoch 57/100\n",
            "700/700 [==============================] - 2s 3ms/step - loss: 0.0360 - binary_accuracy: 0.9929 - val_loss: 0.0070 - val_binary_accuracy: 1.0000\n",
            "Epoch 58/100\n",
            "700/700 [==============================] - 2s 3ms/step - loss: 0.0364 - binary_accuracy: 0.9895 - val_loss: 0.0084 - val_binary_accuracy: 1.0000\n",
            "Epoch 59/100\n",
            "700/700 [==============================] - 2s 3ms/step - loss: 0.0360 - binary_accuracy: 0.9895 - val_loss: 0.0063 - val_binary_accuracy: 1.0000\n",
            "Epoch 60/100\n",
            "700/700 [==============================] - 2s 3ms/step - loss: 0.0339 - binary_accuracy: 0.9895 - val_loss: 0.0083 - val_binary_accuracy: 1.0000\n",
            "Epoch 61/100\n",
            "700/700 [==============================] - 2s 3ms/step - loss: 0.0327 - binary_accuracy: 0.9939 - val_loss: 0.0067 - val_binary_accuracy: 1.0000\n",
            "Epoch 62/100\n",
            "700/700 [==============================] - 2s 3ms/step - loss: 0.0334 - binary_accuracy: 0.9895 - val_loss: 0.0066 - val_binary_accuracy: 1.0000\n",
            "Epoch 63/100\n",
            "700/700 [==============================] - 2s 3ms/step - loss: 0.0312 - binary_accuracy: 0.9939 - val_loss: 0.0045 - val_binary_accuracy: 1.0000\n",
            "Epoch 64/100\n",
            "700/700 [==============================] - 2s 3ms/step - loss: 0.0293 - binary_accuracy: 0.9939 - val_loss: 0.0053 - val_binary_accuracy: 1.0000\n",
            "Epoch 65/100\n",
            "700/700 [==============================] - 2s 3ms/step - loss: 0.0332 - binary_accuracy: 0.9895 - val_loss: 0.0051 - val_binary_accuracy: 1.0000\n",
            "Epoch 66/100\n",
            "700/700 [==============================] - 2s 3ms/step - loss: 0.0289 - binary_accuracy: 0.9891 - val_loss: 0.0043 - val_binary_accuracy: 1.0000\n",
            "Epoch 67/100\n",
            "700/700 [==============================] - 2s 3ms/step - loss: 0.0323 - binary_accuracy: 0.9895 - val_loss: 0.0042 - val_binary_accuracy: 1.0000\n",
            "Epoch 68/100\n",
            "700/700 [==============================] - 2s 3ms/step - loss: 0.0246 - binary_accuracy: 0.9966 - val_loss: 0.0044 - val_binary_accuracy: 1.0000\n",
            "Epoch 69/100\n",
            "700/700 [==============================] - 2s 3ms/step - loss: 0.0270 - binary_accuracy: 0.9939 - val_loss: 0.0041 - val_binary_accuracy: 1.0000\n",
            "Epoch 70/100\n",
            "700/700 [==============================] - 2s 3ms/step - loss: 0.0277 - binary_accuracy: 0.9895 - val_loss: 0.0033 - val_binary_accuracy: 1.0000\n",
            "Epoch 71/100\n",
            "700/700 [==============================] - 2s 3ms/step - loss: 0.0275 - binary_accuracy: 0.9951 - val_loss: 0.0037 - val_binary_accuracy: 1.0000\n",
            "Epoch 72/100\n",
            "700/700 [==============================] - 2s 3ms/step - loss: 0.0238 - binary_accuracy: 0.9953 - val_loss: 0.0031 - val_binary_accuracy: 1.0000\n",
            "Epoch 73/100\n",
            "700/700 [==============================] - 2s 3ms/step - loss: 0.0268 - binary_accuracy: 0.9951 - val_loss: 0.0025 - val_binary_accuracy: 1.0000\n",
            "Epoch 74/100\n",
            "700/700 [==============================] - 2s 3ms/step - loss: 0.0250 - binary_accuracy: 0.9951 - val_loss: 0.0033 - val_binary_accuracy: 1.0000\n",
            "Epoch 75/100\n",
            "700/700 [==============================] - 2s 3ms/step - loss: 0.0222 - binary_accuracy: 0.9953 - val_loss: 0.0034 - val_binary_accuracy: 1.0000\n",
            "Epoch 76/100\n",
            "700/700 [==============================] - 2s 3ms/step - loss: 0.0228 - binary_accuracy: 0.9908 - val_loss: 0.0038 - val_binary_accuracy: 1.0000\n",
            "Epoch 77/100\n",
            "700/700 [==============================] - 2s 3ms/step - loss: 0.0223 - binary_accuracy: 0.9951 - val_loss: 0.0033 - val_binary_accuracy: 1.0000\n",
            "Epoch 78/100\n",
            "700/700 [==============================] - 2s 3ms/step - loss: 0.0224 - binary_accuracy: 0.9965 - val_loss: 0.0027 - val_binary_accuracy: 1.0000\n",
            "Epoch 79/100\n",
            "700/700 [==============================] - 2s 3ms/step - loss: 0.0238 - binary_accuracy: 0.9953 - val_loss: 0.0019 - val_binary_accuracy: 1.0000\n",
            "Epoch 80/100\n",
            "700/700 [==============================] - 2s 3ms/step - loss: 0.0211 - binary_accuracy: 0.9965 - val_loss: 0.0035 - val_binary_accuracy: 1.0000\n",
            "Epoch 81/100\n",
            "700/700 [==============================] - 2s 3ms/step - loss: 0.0224 - binary_accuracy: 0.9977 - val_loss: 0.0023 - val_binary_accuracy: 1.0000\n",
            "Epoch 82/100\n",
            "700/700 [==============================] - 2s 3ms/step - loss: 0.0203 - binary_accuracy: 0.9953 - val_loss: 0.0027 - val_binary_accuracy: 1.0000\n",
            "Epoch 83/100\n",
            "700/700 [==============================] - 2s 3ms/step - loss: 0.0201 - binary_accuracy: 0.9965 - val_loss: 0.0024 - val_binary_accuracy: 1.0000\n",
            "Epoch 84/100\n",
            "700/700 [==============================] - 2s 3ms/step - loss: 0.0204 - binary_accuracy: 0.9965 - val_loss: 0.0019 - val_binary_accuracy: 1.0000\n",
            "Epoch 85/100\n",
            "700/700 [==============================] - 2s 3ms/step - loss: 0.0206 - binary_accuracy: 0.9965 - val_loss: 0.0022 - val_binary_accuracy: 1.0000\n",
            "Epoch 86/100\n",
            "700/700 [==============================] - 2s 3ms/step - loss: 0.0191 - binary_accuracy: 0.9951 - val_loss: 0.0018 - val_binary_accuracy: 1.0000\n",
            "Epoch 87/100\n",
            "700/700 [==============================] - 2s 3ms/step - loss: 0.0207 - binary_accuracy: 0.9977 - val_loss: 0.0018 - val_binary_accuracy: 1.0000\n",
            "Epoch 88/100\n",
            "700/700 [==============================] - 2s 3ms/step - loss: 0.0163 - binary_accuracy: 0.9977 - val_loss: 0.0021 - val_binary_accuracy: 1.0000\n",
            "Epoch 89/100\n",
            "700/700 [==============================] - 2s 3ms/step - loss: 0.0160 - binary_accuracy: 0.9977 - val_loss: 0.0013 - val_binary_accuracy: 1.0000\n",
            "Epoch 90/100\n",
            "700/700 [==============================] - 2s 3ms/step - loss: 0.0182 - binary_accuracy: 0.9979 - val_loss: 0.0017 - val_binary_accuracy: 1.0000\n",
            "Epoch 91/100\n",
            "700/700 [==============================] - 2s 3ms/step - loss: 0.0179 - binary_accuracy: 0.9979 - val_loss: 0.0014 - val_binary_accuracy: 1.0000\n",
            "Epoch 92/100\n",
            "700/700 [==============================] - 2s 3ms/step - loss: 0.0182 - binary_accuracy: 0.9971 - val_loss: 0.0013 - val_binary_accuracy: 1.0000\n",
            "Epoch 93/100\n",
            "700/700 [==============================] - 2s 3ms/step - loss: 0.0164 - binary_accuracy: 0.9983 - val_loss: 0.0011 - val_binary_accuracy: 1.0000\n",
            "Epoch 94/100\n",
            "700/700 [==============================] - 2s 3ms/step - loss: 0.0176 - binary_accuracy: 0.9977 - val_loss: 0.0014 - val_binary_accuracy: 1.0000\n",
            "Epoch 95/100\n",
            "700/700 [==============================] - 2s 3ms/step - loss: 0.0164 - binary_accuracy: 0.9979 - val_loss: 0.0015 - val_binary_accuracy: 1.0000\n",
            "Epoch 96/100\n",
            "700/700 [==============================] - 2s 3ms/step - loss: 0.0173 - binary_accuracy: 0.9965 - val_loss: 8.6381e-04 - val_binary_accuracy: 1.0000\n",
            "Epoch 97/100\n",
            "700/700 [==============================] - 2s 3ms/step - loss: 0.0155 - binary_accuracy: 0.9977 - val_loss: 0.0014 - val_binary_accuracy: 1.0000\n",
            "Epoch 98/100\n",
            "700/700 [==============================] - 2s 3ms/step - loss: 0.0157 - binary_accuracy: 0.9967 - val_loss: 0.0012 - val_binary_accuracy: 1.0000\n",
            "Epoch 99/100\n",
            "700/700 [==============================] - 2s 3ms/step - loss: 0.0170 - binary_accuracy: 0.9979 - val_loss: 0.0013 - val_binary_accuracy: 1.0000\n",
            "Epoch 100/100\n",
            "700/700 [==============================] - 2s 3ms/step - loss: 0.0159 - binary_accuracy: 0.9983 - val_loss: 0.0012 - val_binary_accuracy: 1.0000\n"
          ],
          "name": "stdout"
        },
        {
          "output_type": "execute_result",
          "data": {
            "text/plain": [
              "<tensorflow.python.keras.callbacks.History at 0x7f89477dc1d0>"
            ]
          },
          "metadata": {
            "tags": []
          },
          "execution_count": 111
        }
      ]
    },
    {
      "cell_type": "code",
      "metadata": {
        "id": "Zq7g9Zl6PYpA"
      },
      "source": [
        "export_model = tf.keras.Sequential([\r\n",
        "  vectorize_layer,\r\n",
        "  model,\r\n",
        "  layers.Activation('sigmoid')\r\n",
        "])\r\n",
        "\r\n",
        "export_model.compile(\r\n",
        "    loss=losses.BinaryCrossentropy(from_logits=False), optimizer=\"adam\", metrics=['accuracy']\r\n",
        ")"
      ],
      "execution_count": 112,
      "outputs": []
    },
    {
      "cell_type": "code",
      "metadata": {
        "colab": {
          "base_uri": "https://localhost:8080/"
        },
        "id": "aYv_ycsbU1az",
        "outputId": "23a849b9-6da6-4871-d397-1b11a04c1421"
      },
      "source": [
        "export_model.save('baseline_model_trained')"
      ],
      "execution_count": 153,
      "outputs": [
        {
          "output_type": "stream",
          "text": [
            "INFO:tensorflow:Assets written to: baseline_model_trained/assets\n"
          ],
          "name": "stdout"
        }
      ]
    },
    {
      "cell_type": "code",
      "metadata": {
        "id": "ffOuEs4PPqIz"
      },
      "source": [
        "label_map = {0 : 'definition', 1 : 'legal'}"
      ],
      "execution_count": 114,
      "outputs": []
    },
    {
      "cell_type": "code",
      "metadata": {
        "id": "QGy-Kr2hQIBj"
      },
      "source": [
        "examples = [\r\n",
        "  \"Do Muslims live in America\",\r\n",
        "  \"What is takaful in Islamic banking\"]\r\n",
        "\r\n",
        "pred = export_model.predict(examples)\r\n",
        "\r\n"
      ],
      "execution_count": 168,
      "outputs": []
    },
    {
      "cell_type": "code",
      "metadata": {
        "colab": {
          "base_uri": "https://localhost:8080/"
        },
        "id": "Ndbwf2s7Qt64",
        "outputId": "58003584-6ed0-48af-c7c2-8e16b6b7ed57"
      },
      "source": [
        "answers = list(zip(list(np.where(pred < 0.5, 'def', 'legal').flatten()), list(pred.flatten())))\r\n",
        "answers"
      ],
      "execution_count": 169,
      "outputs": [
        {
          "output_type": "execute_result",
          "data": {
            "text/plain": [
              "[('legal', 0.6251091), ('def', 0.21467099)]"
            ]
          },
          "metadata": {
            "tags": []
          },
          "execution_count": 169
        }
      ]
    }
  ]
}